{
 "cells": [
  {
   "cell_type": "code",
   "execution_count": 7,
   "id": "5ddad133",
   "metadata": {},
   "outputs": [
    {
     "data": {
      "application/vnd.jupyter.widget-view+json": {
       "model_id": "a3a8edc01db34d68a4bd98b18a5f2306",
       "version_major": 2,
       "version_minor": 0
      },
      "text/plain": [
       "  0%|          | 0/10 [00:00<?, ?it/s]"
      ]
     },
     "metadata": {},
     "output_type": "display_data"
    },
    {
     "data": {
      "application/vnd.jupyter.widget-view+json": {
       "model_id": "40f4cbc5e3784ab8a9de5f40a986a215",
       "version_major": 2,
       "version_minor": 0
      },
      "text/plain": [
       "  0%|          | 0/5219 [00:00<?, ?it/s]"
      ]
     },
     "metadata": {},
     "output_type": "display_data"
    },
    {
     "data": {
      "application/vnd.jupyter.widget-view+json": {
       "model_id": "b909e9af3d164f5f97f276beafc5822c",
       "version_major": 2,
       "version_minor": 0
      },
      "text/plain": [
       "  0%|          | 0/3159 [00:00<?, ?it/s]"
      ]
     },
     "metadata": {},
     "output_type": "display_data"
    },
    {
     "data": {
      "application/vnd.jupyter.widget-view+json": {
       "model_id": "cf942f85b873456787ff55ed9a7d4bc2",
       "version_major": 2,
       "version_minor": 0
      },
      "text/plain": [
       "  0%|          | 0/1820 [00:00<?, ?it/s]"
      ]
     },
     "metadata": {},
     "output_type": "display_data"
    },
    {
     "data": {
      "application/vnd.jupyter.widget-view+json": {
       "model_id": "91980067da3445bda983766c2493dee0",
       "version_major": 2,
       "version_minor": 0
      },
      "text/plain": [
       "  0%|          | 0/2552 [00:00<?, ?it/s]"
      ]
     },
     "metadata": {},
     "output_type": "display_data"
    },
    {
     "data": {
      "application/vnd.jupyter.widget-view+json": {
       "model_id": "09b223b29c804c6dad594fe17a108ed9",
       "version_major": 2,
       "version_minor": 0
      },
      "text/plain": [
       "  0%|          | 0/3868 [00:00<?, ?it/s]"
      ]
     },
     "metadata": {},
     "output_type": "display_data"
    },
    {
     "data": {
      "application/vnd.jupyter.widget-view+json": {
       "model_id": "be08e13777054629b106e0518403e679",
       "version_major": 2,
       "version_minor": 0
      },
      "text/plain": [
       "  0%|          | 0/3384 [00:00<?, ?it/s]"
      ]
     },
     "metadata": {},
     "output_type": "display_data"
    },
    {
     "data": {
      "application/vnd.jupyter.widget-view+json": {
       "model_id": "3df8aafde59f411699314e7b94d9812a",
       "version_major": 2,
       "version_minor": 0
      },
      "text/plain": [
       "  0%|          | 0/2898 [00:00<?, ?it/s]"
      ]
     },
     "metadata": {},
     "output_type": "display_data"
    },
    {
     "data": {
      "application/vnd.jupyter.widget-view+json": {
       "model_id": "c0be12b6618a49ab9c0088514bb4cca9",
       "version_major": 2,
       "version_minor": 0
      },
      "text/plain": [
       "  0%|          | 0/5298 [00:00<?, ?it/s]"
      ]
     },
     "metadata": {},
     "output_type": "display_data"
    },
    {
     "data": {
      "application/vnd.jupyter.widget-view+json": {
       "model_id": "6e85f4f860e04ce8b45db7ec5233f0fe",
       "version_major": 2,
       "version_minor": 0
      },
      "text/plain": [
       "  0%|          | 0/3080 [00:00<?, ?it/s]"
      ]
     },
     "metadata": {},
     "output_type": "display_data"
    },
    {
     "data": {
      "application/vnd.jupyter.widget-view+json": {
       "model_id": "4fe292639706411ca291e2f6ff5defd0",
       "version_major": 2,
       "version_minor": 0
      },
      "text/plain": [
       "  0%|          | 0/2481 [00:00<?, ?it/s]"
      ]
     },
     "metadata": {},
     "output_type": "display_data"
    }
   ],
   "source": [
    "import os \n",
    "from pyvi import ViTokenizer\n",
    "from tqdm.notebook import tqdm\n",
    "import numpy as np\n",
    "import gensim\n",
    "\n",
    "def get_data(folder_path):\n",
    "    X = []\n",
    "    y = []\n",
    "    dirs = os.listdir(folder_path)\n",
    "    for path in tqdm(dirs):\n",
    "        file_paths = os.listdir(os.path.join(folder_path, path))\n",
    "        for file_path in tqdm(file_paths):\n",
    "            with open(os.path.join(folder_path, path, file_path), 'r', encoding=\"utf-16\") as f:\n",
    "                lines = f.readlines()\n",
    "                lines = ' '.join(lines)\n",
    "                lines = gensim.utils.simple_preprocess(lines)\n",
    "                lines = ' '.join(lines)\n",
    "                lines = ViTokenizer.tokenize(lines)\n",
    "\n",
    "                X.append(lines)\n",
    "                y.append(path)\n",
    "\n",
    "    return X, y\n",
    "\n",
    "train_path = 'raw_data/'\n",
    "X_data, y_data = get_data(train_path)"
   ]
  },
  {
   "cell_type": "code",
   "execution_count": 24,
   "id": "c432bd5c",
   "metadata": {},
   "outputs": [],
   "source": [
    "import pandas as pd"
   ]
  },
  {
   "cell_type": "code",
   "execution_count": 25,
   "id": "27695bdf",
   "metadata": {},
   "outputs": [
    {
     "data": {
      "text/html": [
       "<div>\n",
       "<style scoped>\n",
       "    .dataframe tbody tr th:only-of-type {\n",
       "        vertical-align: middle;\n",
       "    }\n",
       "\n",
       "    .dataframe tbody tr th {\n",
       "        vertical-align: top;\n",
       "    }\n",
       "\n",
       "    .dataframe thead th {\n",
       "        text-align: right;\n",
       "    }\n",
       "</style>\n",
       "<table border=\"1\" class=\"dataframe\">\n",
       "  <thead>\n",
       "    <tr style=\"text-align: right;\">\n",
       "      <th></th>\n",
       "      <th>text</th>\n",
       "      <th>label</th>\n",
       "    </tr>\n",
       "  </thead>\n",
       "  <tbody>\n",
       "    <tr>\n",
       "      <th>0</th>\n",
       "      <td>thành_lập dự_án policy phòng_chống hiv aids vn...</td>\n",
       "      <td>Chinh tri Xa hoi</td>\n",
       "    </tr>\n",
       "    <tr>\n",
       "      <th>1</th>\n",
       "      <td>hơn khách đến vịnh nha trang theo trực_ban bộ_...</td>\n",
       "      <td>Chinh tri Xa hoi</td>\n",
       "    </tr>\n",
       "    <tr>\n",
       "      <th>2</th>\n",
       "      <td>tphcm khai_trương dịch_vụ lặn biển săn cá_mập ...</td>\n",
       "      <td>Chinh tri Xa hoi</td>\n",
       "    </tr>\n",
       "    <tr>\n",
       "      <th>3</th>\n",
       "      <td>du_lịch vn sẽ có tư_vấn nước_ngoài ông phạm từ...</td>\n",
       "      <td>Chinh tri Xa hoi</td>\n",
       "    </tr>\n",
       "    <tr>\n",
       "      <th>4</th>\n",
       "      <td>quy_chế tuyển_sinh không làm_tròn điểm từng bà...</td>\n",
       "      <td>Chinh tri Xa hoi</td>\n",
       "    </tr>\n",
       "    <tr>\n",
       "      <th>...</th>\n",
       "      <td>...</td>\n",
       "      <td>...</td>\n",
       "    </tr>\n",
       "    <tr>\n",
       "      <th>33754</th>\n",
       "      <td>điện_thoại_di_động tương_lai trông như thế_nào...</td>\n",
       "      <td>Vi tinh</td>\n",
       "    </tr>\n",
       "    <tr>\n",
       "      <th>33755</th>\n",
       "      <td>internet sẽ tăng_tốc lần trong tương_lai các f...</td>\n",
       "      <td>Vi tinh</td>\n",
       "    </tr>\n",
       "    <tr>\n",
       "      <th>33756</th>\n",
       "      <td>phần_lớn thế_giới thứ thất_bại với chính_phủ đ...</td>\n",
       "      <td>Vi tinh</td>\n",
       "    </tr>\n",
       "    <tr>\n",
       "      <th>33757</th>\n",
       "      <td>doom giành chiến_thắng kép trò_chơi hành_động ...</td>\n",
       "      <td>Vi tinh</td>\n",
       "    </tr>\n",
       "    <tr>\n",
       "      <th>33758</th>\n",
       "      <td>lỗi về window media player tôi đang dùng winxp...</td>\n",
       "      <td>Vi tinh</td>\n",
       "    </tr>\n",
       "  </tbody>\n",
       "</table>\n",
       "<p>33759 rows × 2 columns</p>\n",
       "</div>"
      ],
      "text/plain": [
       "                                                    text             label\n",
       "0      thành_lập dự_án policy phòng_chống hiv aids vn...  Chinh tri Xa hoi\n",
       "1      hơn khách đến vịnh nha trang theo trực_ban bộ_...  Chinh tri Xa hoi\n",
       "2      tphcm khai_trương dịch_vụ lặn biển săn cá_mập ...  Chinh tri Xa hoi\n",
       "3      du_lịch vn sẽ có tư_vấn nước_ngoài ông phạm từ...  Chinh tri Xa hoi\n",
       "4      quy_chế tuyển_sinh không làm_tròn điểm từng bà...  Chinh tri Xa hoi\n",
       "...                                                  ...               ...\n",
       "33754  điện_thoại_di_động tương_lai trông như thế_nào...           Vi tinh\n",
       "33755  internet sẽ tăng_tốc lần trong tương_lai các f...           Vi tinh\n",
       "33756  phần_lớn thế_giới thứ thất_bại với chính_phủ đ...           Vi tinh\n",
       "33757  doom giành chiến_thắng kép trò_chơi hành_động ...           Vi tinh\n",
       "33758  lỗi về window media player tôi đang dùng winxp...           Vi tinh\n",
       "\n",
       "[33759 rows x 2 columns]"
      ]
     },
     "execution_count": 25,
     "metadata": {},
     "output_type": "execute_result"
    }
   ],
   "source": [
    "df = pd.DataFrame({'text': X_data, 'label': y_data})\n",
    "df"
   ]
  },
  {
   "cell_type": "code",
   "execution_count": 26,
   "id": "8cabec24",
   "metadata": {},
   "outputs": [
    {
     "data": {
      "text/html": [
       "<div>\n",
       "<style scoped>\n",
       "    .dataframe tbody tr th:only-of-type {\n",
       "        vertical-align: middle;\n",
       "    }\n",
       "\n",
       "    .dataframe tbody tr th {\n",
       "        vertical-align: top;\n",
       "    }\n",
       "\n",
       "    .dataframe thead th {\n",
       "        text-align: right;\n",
       "    }\n",
       "</style>\n",
       "<table border=\"1\" class=\"dataframe\">\n",
       "  <thead>\n",
       "    <tr style=\"text-align: right;\">\n",
       "      <th></th>\n",
       "      <th>text</th>\n",
       "      <th>label</th>\n",
       "    </tr>\n",
       "  </thead>\n",
       "  <tbody>\n",
       "    <tr>\n",
       "      <th>0</th>\n",
       "      <td>thủ_tướng phan văn khải kết_thúc chuyến thăm m...</td>\n",
       "      <td>Chinh tri Xa hoi</td>\n",
       "    </tr>\n",
       "    <tr>\n",
       "      <th>1</th>\n",
       "      <td>học_bổng thụy sĩ vào ngày tại khách_sạn kim đô...</td>\n",
       "      <td>Chinh tri Xa hoi</td>\n",
       "    </tr>\n",
       "    <tr>\n",
       "      <th>2</th>\n",
       "      <td>cung thể_thao dưới nước quốc_gia thành bể_bơi ...</td>\n",
       "      <td>The thao</td>\n",
       "    </tr>\n",
       "    <tr>\n",
       "      <th>3</th>\n",
       "      <td>ukraina miền tây ăn_mừng miền đông thất_vọng t...</td>\n",
       "      <td>The gioi</td>\n",
       "    </tr>\n",
       "    <tr>\n",
       "      <th>4</th>\n",
       "      <td>bác_sĩ chỉ được kê đơn các thuốc thật cần_thiế...</td>\n",
       "      <td>Suc khoe</td>\n",
       "    </tr>\n",
       "    <tr>\n",
       "      <th>...</th>\n",
       "      <td>...</td>\n",
       "      <td>...</td>\n",
       "    </tr>\n",
       "    <tr>\n",
       "      <th>33754</th>\n",
       "      <td>quốc bảo nên biết mình biết người quốc bảo đừn...</td>\n",
       "      <td>Van hoa</td>\n",
       "    </tr>\n",
       "    <tr>\n",
       "      <th>33755</th>\n",
       "      <td>trốn cảnh đói_nghèo người phúc kiến bất_chấp h...</td>\n",
       "      <td>The gioi</td>\n",
       "    </tr>\n",
       "    <tr>\n",
       "      <th>33756</th>\n",
       "      <td>lê huy quang nghệ_sĩ đi guốc mộc tôi là người ...</td>\n",
       "      <td>Van hoa</td>\n",
       "    </tr>\n",
       "    <tr>\n",
       "      <th>33757</th>\n",
       "      <td>hội_đồng hlv quốc_gia chỉ ra sai_lầm của lđbđv...</td>\n",
       "      <td>The thao</td>\n",
       "    </tr>\n",
       "    <tr>\n",
       "      <th>33758</th>\n",
       "      <td>tướng oánh gọi gần cuộc sang thái cho dũng huế...</td>\n",
       "      <td>Phap luat</td>\n",
       "    </tr>\n",
       "  </tbody>\n",
       "</table>\n",
       "<p>33759 rows × 2 columns</p>\n",
       "</div>"
      ],
      "text/plain": [
       "                                                    text             label\n",
       "0      thủ_tướng phan văn khải kết_thúc chuyến thăm m...  Chinh tri Xa hoi\n",
       "1      học_bổng thụy sĩ vào ngày tại khách_sạn kim đô...  Chinh tri Xa hoi\n",
       "2      cung thể_thao dưới nước quốc_gia thành bể_bơi ...          The thao\n",
       "3      ukraina miền tây ăn_mừng miền đông thất_vọng t...          The gioi\n",
       "4      bác_sĩ chỉ được kê đơn các thuốc thật cần_thiế...          Suc khoe\n",
       "...                                                  ...               ...\n",
       "33754  quốc bảo nên biết mình biết người quốc bảo đừn...           Van hoa\n",
       "33755  trốn cảnh đói_nghèo người phúc kiến bất_chấp h...          The gioi\n",
       "33756  lê huy quang nghệ_sĩ đi guốc mộc tôi là người ...           Van hoa\n",
       "33757  hội_đồng hlv quốc_gia chỉ ra sai_lầm của lđbđv...          The thao\n",
       "33758  tướng oánh gọi gần cuộc sang thái cho dũng huế...         Phap luat\n",
       "\n",
       "[33759 rows x 2 columns]"
      ]
     },
     "execution_count": 26,
     "metadata": {},
     "output_type": "execute_result"
    }
   ],
   "source": [
    "df = df.sample(frac=1).reset_index(drop=True)\n",
    "df"
   ]
  },
  {
   "cell_type": "code",
   "execution_count": 27,
   "id": "2e5c165e",
   "metadata": {},
   "outputs": [],
   "source": [
    "#df.to_csv('dataset.csv', index=False)"
   ]
  },
  {
   "cell_type": "code",
   "execution_count": 28,
   "id": "67671880",
   "metadata": {},
   "outputs": [
    {
     "data": {
      "image/png": "[encoded data removed]",
      "text/plain": [
       "<Figure size 640x480 with 1 Axes>"
      ]
     },
     "metadata": {},
     "output_type": "display_data"
    }
   ],
   "source": [
    "df[['label', 'text']].groupby(['label']).count().plot(kind='bar');"
   ]
  },
  {
   "cell_type": "code",
   "execution_count": 29,
   "id": "41f1eb3b",
   "metadata": {},
   "outputs": [
    {
     "name": "stdout",
     "output_type": "stream",
     "text": [
      "Labels mapping:  {'Chinh tri Xa hoi': 0, 'Doi song': 1, 'Khoa hoc': 2, 'Kinh doanh': 3, 'Phap luat': 4, 'Suc khoe': 5, 'The gioi': 6, 'The thao': 7, 'Van hoa': 8, 'Vi tinh': 9}\n"
     ]
    },
    {
     "data": {
      "text/html": [
       "<div>\n",
       "<style scoped>\n",
       "    .dataframe tbody tr th:only-of-type {\n",
       "        vertical-align: middle;\n",
       "    }\n",
       "\n",
       "    .dataframe tbody tr th {\n",
       "        vertical-align: top;\n",
       "    }\n",
       "\n",
       "    .dataframe thead th {\n",
       "        text-align: right;\n",
       "    }\n",
       "</style>\n",
       "<table border=\"1\" class=\"dataframe\">\n",
       "  <thead>\n",
       "    <tr style=\"text-align: right;\">\n",
       "      <th></th>\n",
       "      <th>text</th>\n",
       "      <th>label</th>\n",
       "    </tr>\n",
       "  </thead>\n",
       "  <tbody>\n",
       "    <tr>\n",
       "      <th>0</th>\n",
       "      <td>thủ_tướng phan văn khải kết_thúc chuyến thăm m...</td>\n",
       "      <td>0</td>\n",
       "    </tr>\n",
       "    <tr>\n",
       "      <th>1</th>\n",
       "      <td>học_bổng thụy sĩ vào ngày tại khách_sạn kim đô...</td>\n",
       "      <td>0</td>\n",
       "    </tr>\n",
       "    <tr>\n",
       "      <th>2</th>\n",
       "      <td>cung thể_thao dưới nước quốc_gia thành bể_bơi ...</td>\n",
       "      <td>7</td>\n",
       "    </tr>\n",
       "    <tr>\n",
       "      <th>3</th>\n",
       "      <td>ukraina miền tây ăn_mừng miền đông thất_vọng t...</td>\n",
       "      <td>6</td>\n",
       "    </tr>\n",
       "    <tr>\n",
       "      <th>4</th>\n",
       "      <td>bác_sĩ chỉ được kê đơn các thuốc thật cần_thiế...</td>\n",
       "      <td>5</td>\n",
       "    </tr>\n",
       "    <tr>\n",
       "      <th>...</th>\n",
       "      <td>...</td>\n",
       "      <td>...</td>\n",
       "    </tr>\n",
       "    <tr>\n",
       "      <th>33754</th>\n",
       "      <td>quốc bảo nên biết mình biết người quốc bảo đừn...</td>\n",
       "      <td>8</td>\n",
       "    </tr>\n",
       "    <tr>\n",
       "      <th>33755</th>\n",
       "      <td>trốn cảnh đói_nghèo người phúc kiến bất_chấp h...</td>\n",
       "      <td>6</td>\n",
       "    </tr>\n",
       "    <tr>\n",
       "      <th>33756</th>\n",
       "      <td>lê huy quang nghệ_sĩ đi guốc mộc tôi là người ...</td>\n",
       "      <td>8</td>\n",
       "    </tr>\n",
       "    <tr>\n",
       "      <th>33757</th>\n",
       "      <td>hội_đồng hlv quốc_gia chỉ ra sai_lầm của lđbđv...</td>\n",
       "      <td>7</td>\n",
       "    </tr>\n",
       "    <tr>\n",
       "      <th>33758</th>\n",
       "      <td>tướng oánh gọi gần cuộc sang thái cho dũng huế...</td>\n",
       "      <td>4</td>\n",
       "    </tr>\n",
       "  </tbody>\n",
       "</table>\n",
       "<p>33759 rows × 2 columns</p>\n",
       "</div>"
      ],
      "text/plain": [
       "                                                    text  label\n",
       "0      thủ_tướng phan văn khải kết_thúc chuyến thăm m...      0\n",
       "1      học_bổng thụy sĩ vào ngày tại khách_sạn kim đô...      0\n",
       "2      cung thể_thao dưới nước quốc_gia thành bể_bơi ...      7\n",
       "3      ukraina miền tây ăn_mừng miền đông thất_vọng t...      6\n",
       "4      bác_sĩ chỉ được kê đơn các thuốc thật cần_thiế...      5\n",
       "...                                                  ...    ...\n",
       "33754  quốc bảo nên biết mình biết người quốc bảo đừn...      8\n",
       "33755  trốn cảnh đói_nghèo người phúc kiến bất_chấp h...      6\n",
       "33756  lê huy quang nghệ_sĩ đi guốc mộc tôi là người ...      8\n",
       "33757  hội_đồng hlv quốc_gia chỉ ra sai_lầm của lđbđv...      7\n",
       "33758  tướng oánh gọi gần cuộc sang thái cho dũng huế...      4\n",
       "\n",
       "[33759 rows x 2 columns]"
      ]
     },
     "execution_count": 29,
     "metadata": {},
     "output_type": "execute_result"
    }
   ],
   "source": [
    "import pandas as pd\n",
    "from sklearn.preprocessing import LabelEncoder\n",
    "\n",
    "le = LabelEncoder()\n",
    "\n",
    "le.fit(df['label'])\n",
    "\n",
    "labels_mapping = dict(zip(le.classes_, le.transform(le.classes_)))\n",
    "print(\"Labels mapping: \", labels_mapping)\n",
    "\n",
    "df['label'] = le.transform(df['label'])\n",
    "\n",
    "df"
   ]
  },
  {
   "cell_type": "code",
   "execution_count": null,
   "id": "50c0fc20",
   "metadata": {},
   "outputs": [],
   "source": []
  }
 ],
 "metadata": {
  "kernelspec": {
   "display_name": "Python 3 (ipykernel)",
   "language": "python",
   "name": "python3"
  },
  "language_info": {
   "codemirror_mode": {
    "name": "ipython",
    "version": 3
   },
   "file_extension": ".py",
   "mimetype": "text/x-python",
   "name": "python",
   "nbconvert_exporter": "python",
   "pygments_lexer": "ipython3",
   "version": "3.9.13"
  }
 },
 "nbformat": 4,
 "nbformat_minor": 5
}
